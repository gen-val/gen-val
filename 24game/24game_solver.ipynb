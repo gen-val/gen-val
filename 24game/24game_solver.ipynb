{
 "cells": [
  {
   "cell_type": "code",
   "execution_count": 3,
   "id": "a7b377af-4d1d-4db7-a682-d7ecb292783f",
   "metadata": {},
   "outputs": [],
   "source": [
    "from   itertools  import permutations, combinations, product, chain\n",
    "from   pprint     import pprint as pp\n",
    "from   fractions  import Fraction as F\n",
    "import random, ast, re\n",
    "import sys\n",
    " \n",
    "if sys.version_info[0] < 3:\n",
    "    input = raw_input\n",
    "    from itertools import izip_longest as zip_longest\n",
    "else:\n",
    "    from itertools import zip_longest\n",
    " \n",
    " \n",
    "def choose4():\n",
    "    'four random digits >0 as characters'\n",
    "    return [str(random.randint(1,9)) for i in range(4)]\n",
    "\n",
    " \n",
    "def check(answer, digits):\n",
    "    allowed = set('() +-*/\\t'+''.join(digits))\n",
    "    ok = all(ch in allowed for ch in answer) and \\\n",
    "         all(digits.count(dig) == answer.count(dig) for dig in set(digits)) \\\n",
    "         and not re.search('\\d\\d', answer)\n",
    "    if ok:\n",
    "        try:\n",
    "            ast.parse(answer)\n",
    "        except:\n",
    "            ok = False\n",
    "    return ok\n",
    " \n",
    "def solve(digits):\n",
    "    digilen = len(digits)\n",
    "    # length of an exp without brackets \n",
    "    exprlen = 2 * digilen - 1\n",
    "    # permute all the digits\n",
    "    digiperm = sorted(set(permutations(digits)))\n",
    "    # All the possible operator combinations\n",
    "    opcomb   = list(product('+-*/', repeat=digilen-1))\n",
    "    # All the bracket insertion points:\n",
    "    brackets = ( [()] + [(x,y)\n",
    "                         for x in range(0, exprlen, 2)\n",
    "                         for y in range(x+4, exprlen+2, 2)\n",
    "                         if (x,y) != (0,exprlen+1)]\n",
    "                 + [(0, 3+1, 4+2, 7+3)] ) # double brackets case\n",
    "    for d in digiperm:\n",
    "        for ops in opcomb:\n",
    "            if '/' in ops:\n",
    "                d2 = [('F(%s)' % i) for i in d] # Use Fractions for accuracy\n",
    "            else:\n",
    "                d2 = d\n",
    "            ex = list(chain.from_iterable(zip_longest(d2, ops, fillvalue='')))\n",
    "            for b in brackets:\n",
    "                exp = ex[::]\n",
    "                for insertpoint, bracket in zip(b, '()'*(len(b)//2)):\n",
    "                    exp.insert(insertpoint, bracket)\n",
    "                txt = ''.join(exp)\n",
    "                try:\n",
    "                    num = eval(txt)\n",
    "                except ZeroDivisionError:\n",
    "                    continue\n",
    "                if num == 24:\n",
    "                    if '/' in ops:\n",
    "                        exp = [ (term if not term.startswith('F(') else term[2:-1])\n",
    "                               for term in exp ]\n",
    "                    ans = ' '.join(exp).rstrip()\n",
    "                    try:\n",
    "                        num = eval(ans)\n",
    "                    except ZeroDivisionError:\n",
    "                        print(txt, ans)\n",
    "                        continue\n",
    "                    if num != 24:\n",
    "                        print(txt, ans)\n",
    "                        continue\n",
    "                    return ans\n",
    "    return None"
   ]
  },
  {
   "cell_type": "code",
   "execution_count": 3,
   "id": "2d03dc39-a62e-4079-bf2b-fcc84bf64140",
   "metadata": {},
   "outputs": [
    {
     "name": "stdout",
     "output_type": "stream",
     "text": [
      "% solvable: 100.0\n"
     ]
    }
   ],
   "source": [
    "import pandas as pd\n",
    "fn = \"2024_02_13_24game_n200_gpt-4-1106-preview.csv\"\n",
    "df = pd.read_csv(f\"results/{fn}\")\n",
    "\n",
    "sols = []\n",
    "num_solvable = 0\n",
    "for _, row in df.iterrows():\n",
    "    digits = row['Question'].split()\n",
    "    sol = solve(digits)\n",
    "    try:\n",
    "        if eval(sol) == 24:\n",
    "            sols.append(sol + \" = 24\")\n",
    "            num_solvable += 1\n",
    "        else:\n",
    "            sols.append(None)\n",
    "            print(sol)\n",
    "    except:\n",
    "        sols.append(None)\n",
    "        print(sol)\n",
    "        \n",
    "print(f\"% solvable: {num_solvable/len(df)*100}\")\n",
    "df['Solution'] = sols\n",
    "df.to_csv(f\"results/{fn}\", index=False)"
   ]
  },
  {
   "cell_type": "code",
   "execution_count": 4,
   "id": "a5f3a5bc-e2f1-4461-85d2-8c3fa52851f9",
   "metadata": {},
   "outputs": [
    {
     "name": "stdout",
     "output_type": "stream",
     "text": [
      "F(8)/(F(3)-F(8)/F(3)) 8 / ( 3 - 8 / 3 )\n",
      "None\n"
     ]
    }
   ],
   "source": [
    "\n",
    "digits = [\"3\", \"3\", \"8\", \"8\"]\n",
    "sol = solve(digits)\n",
    "print(sol)"
   ]
  },
  {
   "cell_type": "code",
   "execution_count": null,
   "id": "d2e780fa-1381-448a-998c-9958f3aedc74",
   "metadata": {},
   "outputs": [],
   "source": []
  }
 ],
 "metadata": {
  "kernelspec": {
   "display_name": "Python 3 (ipykernel)",
   "language": "python",
   "name": "python3"
  },
  "language_info": {
   "codemirror_mode": {
    "name": "ipython",
    "version": 3
   },
   "file_extension": ".py",
   "mimetype": "text/x-python",
   "name": "python",
   "nbconvert_exporter": "python",
   "pygments_lexer": "ipython3",
   "version": "3.10.12"
  }
 },
 "nbformat": 4,
 "nbformat_minor": 5
}
